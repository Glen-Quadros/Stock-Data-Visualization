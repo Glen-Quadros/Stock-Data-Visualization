{
 "cells": [
  {
   "cell_type": "code",
   "execution_count": null,
   "id": "acbb81e3",
   "metadata": {},
   "outputs": [],
   "source": [
    "import numpy as np \n",
    "import pandas as pd\n",
    "from pandas_datareader import data as pdr \n",
    "\n",
    "#Market Data\n",
    "import yfinance as yf\n",
    "\n",
    "#Data Visualisation\n",
    "import matplotlib.pyplot as plt\n",
    "import seaborn as sns\n",
    "import plotly.graph_objs as go\n",
    "\n",
    "#Overriding yfinance data\n",
    "yf.pdr_override()\n",
    "\n",
    "#Getting input from the user\n",
    "stock = input('Enter the Stock Symbol:')\n",
    "\n",
    "#Getting the period and interval from the user\n",
    "p = input('Enter the period(1d, 1mo, 1y): ')\n",
    "i = input('Enter the interval(1m, 1h, 1d, 1wk, 1mo): ')\n",
    "\n",
    "#Downloading the dataframe\n",
    "df = yf.download(tickers = stock, period = p, interval = i)\n",
    "\n",
    "#Plotting the dataframe using plotly\n",
    "fig = go.Figure(data=[go.Candlestick(\n",
    "                        x = df.index,\n",
    "                        open = df['Open'], \n",
    "                        high = df['High'],\n",
    "                        low = df['Low'],\n",
    "                        close = df['Adj Close']\n",
    ")])\n",
    "\n",
    "fig.show();"
   ]
  }
 ],
 "metadata": {
  "kernelspec": {
   "display_name": "Python 3 (ipykernel)",
   "language": "python",
   "name": "python3"
  },
  "language_info": {
   "codemirror_mode": {
    "name": "ipython",
    "version": 3
   },
   "file_extension": ".py",
   "mimetype": "text/x-python",
   "name": "python",
   "nbconvert_exporter": "python",
   "pygments_lexer": "ipython3",
   "version": "3.10.4"
  }
 },
 "nbformat": 4,
 "nbformat_minor": 5
}
